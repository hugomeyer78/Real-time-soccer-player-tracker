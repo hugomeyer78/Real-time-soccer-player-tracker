{
 "cells": [
  {
   "cell_type": "code",
   "execution_count": 1,
   "metadata": {},
   "outputs": [],
   "source": [
    "from image import Image\n",
    "from text_recognition import text_localization, text_reco\n",
    "import matplotlib.pyplot as plt\n",
    "import numpy as np\n"
   ]
  },
  {
   "cell_type": "code",
   "execution_count": 2,
   "metadata": {},
   "outputs": [],
   "source": [
    "\n",
    "def find_team(data, h, prox_ratio=0.005):\n",
    "    if data.shape[0] == 1:\n",
    "        return data\n",
    "    else:\n",
    "        indices=[]\n",
    "        for i, val1 in enumerate(data[:, 1]):\n",
    "            for j, val2 in enumerate(data[i+1:, 1]):\n",
    "                distance = abs(val1-val2)\n",
    "                if distance < h*prox_ratio:\n",
    "                    if i not in indices:\n",
    "                        indices.append(i)\n",
    "                    if j+i+1 not in indices:\n",
    "                        indices.append(j+i+1)\n",
    "        return data[indices]\n",
    "\n",
    "def find_players(data):\n",
    "    data = data[np.argsort(data[:, 1])]\n",
    "    distances=data[1:, 1] - data[:-1, 1]\n",
    "    indices = np.argsort(distances)[::-1]\n",
    "    distances = distances[indices]\n",
    "    players=None\n",
    "    team_misc=0\n",
    "    i=0\n",
    "    while players is None and i<indices.shape[0]:\n",
    "        sep_line = indices[i]+1\n",
    "        grps = [data[:sep_line], data[sep_line:]]\n",
    "        for i in [0, 1]:\n",
    "            if grps[i].shape[0] == 11:\n",
    "                return grps[i], grps[1-i]\n",
    "        i += 1\n",
    "\n",
    "    raise ValueError(\"The 11 players could not be distinguished from the rest\")\n",
    "\n",
    "def find_coach_and_substitutes(data):\n",
    "    data = data[np.argsort(data[:, 0], axis=0)]\n",
    "    sep_line = np.argmax(data[1:, 0] - data[:-1, 0])+1\n",
    "    grps = [data[:sep_line], data[sep_line:]]\n",
    "    vars = [grp[:, 0].var() for grp in grps]\n",
    "    index = np.argmin(np.asarray(vars))\n",
    "    \n",
    "    return grps[index], grps[1-index]\n",
    "\n",
    "def separate_coach_and_substitutes(data):\n",
    "    data = data[np.argsort(data[:, 1])]\n",
    "    indices=[2, -2]\n",
    "    dists = [data[ind, 1]-data[ind-1, 1] for ind in indices]\n",
    "    sep_line = indices[np.argmax(dists)]\n",
    "    grps = [data[:sep_line], data[sep_line:]]\n",
    "    index = np.argmax([grp.shape[0] for grp in grps])\n",
    "    return grps[index][:-1], grps[1-index][:-1]\n",
    "\n",
    "def find_text_categories_loc(boxes, h):\n",
    "    centerX = np.asarray([(endX+startX)/2 for (startX, startY, endX, endY) in boxes])\n",
    "    centerY = np.asarray([h-(endY+startY)/2 for (startX, startY, endX, endY) in boxes])\n",
    "    centers = np.concatenate([centerX.reshape(-1, 1), centerY.reshape(-1, 1)], axis=1)\n",
    "    \n",
    "    substitutes_coach, others = find_coach_and_substitutes(centers)\n",
    "    subst_cent, coach_cent = separate_coach_and_substitutes(substitutes_coach)\n",
    "    players_cent, others = find_players(others)\n",
    "    team_cent = find_team(others, h, prox_ratio=0.005)\n",
    "    \n",
    "    substitutes_ind = [int(el/2) for el in np.in1d(centers, subst_cent).nonzero()[0][::2]]\n",
    "    coach_ind = [int(el/2) for el in np.in1d(centers, coach_cent).nonzero()[0][::2]]\n",
    "    players_ind = [int(el/2) for el in np.in1d(centers, players_cent).nonzero()[0][::2]]\n",
    "    team_ind = [int(el/2) for el in np.in1d(centers, team_cent).nonzero()[0][::2]]\n",
    "    #plt.figure(figsize=(10, 5))\n",
    "    #plt.scatter(pts[:, 0], pts[:, 1])\n",
    "    #plt.scatter(coach_cent[:, 0], coach_cent[:, 1])\n",
    "    #plt.show\n",
    "    return boxes[substitutes_ind], boxes[coach_ind], boxes[players_ind], boxes[team_ind]\n"
   ]
  },
  {
   "cell_type": "code",
   "execution_count": 3,
   "metadata": {},
   "outputs": [
    {
     "name": "stdout",
     "output_type": "stream",
     "text": [
      "[INFO] loading EAST text detector...\n"
     ]
    }
   ],
   "source": [
    "path = '../Images/psg_info.png'\n",
    "\n",
    "\n",
    "img = Image(path=path, name='psg_info_out')\n",
    "(h, w) = img.pix_vals.shape[:2]\n",
    "    #img.resize_no_distortion()\n",
    "    #img.convert_to_gray()\n",
    "    #img.thresholding()\n",
    "    #img.export('../Images')\n",
    "boxes = text_localization(img.pix_vals)"
   ]
  },
  {
   "cell_type": "code",
   "execution_count": 4,
   "metadata": {},
   "outputs": [
    {
     "name": "stdout",
     "output_type": "stream",
     "text": [
      "[[ 320  630  528  690]\n",
      " [ 320  710  504  765]\n",
      " [ 280  875  608  930]\n",
      " [ 296  790  528  845]\n",
      " [ 296  950  560 1010]\n",
      " [ 304  550  496  610]\n",
      " [ 264 1030  472 1090]]\n"
     ]
    }
   ],
   "source": [
    "substitutes, coach, players, team = find_text_categories_loc(boxes, h)\n",
    "print(substitutes)"
   ]
  },
  {
   "cell_type": "code",
   "execution_count": 5,
   "metadata": {},
   "outputs": [
    {
     "name": "stdout",
     "output_type": "stream",
     "text": [
      "5 ARI\n",
      "\n",
      "8 PAR\n",
      "\n",
      "e AV A\n",
      "\n",
      "eta\n",
      "\n",
      "asa\n",
      "\n",
      "7\n",
      "\n",
      "ac\n",
      "\n"
     ]
    }
   ],
   "source": [
    "#text_reco(img.pix_vals, coach, 0.5, 0.25, 'Coach')\n",
    "text_reco(img.pix_vals, substitutes, 0.5, 0.25, 'Substitutes')"
   ]
  },
  {
   "cell_type": "code",
   "execution_count": 6,
   "metadata": {},
   "outputs": [],
   "source": [
    "\n",
    "\n",
    "#img.display()"
   ]
  },
  {
   "cell_type": "code",
   "execution_count": null,
   "metadata": {},
   "outputs": [],
   "source": []
  }
 ],
 "metadata": {
  "kernelspec": {
   "display_name": "Python 3",
   "language": "python",
   "name": "python3"
  },
  "language_info": {
   "codemirror_mode": {
    "name": "ipython",
    "version": 3
   },
   "file_extension": ".py",
   "mimetype": "text/x-python",
   "name": "python",
   "nbconvert_exporter": "python",
   "pygments_lexer": "ipython3",
   "version": "3.7.0"
  }
 },
 "nbformat": 4,
 "nbformat_minor": 2
}
