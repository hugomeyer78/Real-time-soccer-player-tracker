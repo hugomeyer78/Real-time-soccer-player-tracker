{
 "cells": [
  {
   "cell_type": "code",
   "execution_count": 114,
   "metadata": {},
   "outputs": [],
   "source": [
    "from image import Image\n",
    "from text_recognition import text_reco\n",
    "import matplotlib.pyplot as plt\n",
    "import numpy as np\n"
   ]
  },
  {
   "cell_type": "code",
   "execution_count": 159,
   "metadata": {},
   "outputs": [],
   "source": [
    "\n",
    "def find_team(data, h, prox_ratio=0.005):\n",
    "    if data.shape[0] == 1:\n",
    "        return data\n",
    "    else:\n",
    "        indices=[]\n",
    "        for i, val1 in enumerate(data[:, 1]):\n",
    "            for j, val2 in enumerate(data[i+1:, 1]):\n",
    "                distance = abs(val1-val2)\n",
    "                if distance < h*prox_ratio:\n",
    "                    if i not in indices:\n",
    "                        indices.append(i)\n",
    "                    if j+i+1 not in indices:\n",
    "                        indices.append(j+i+1)\n",
    "        return data[indices]\n",
    "\n",
    "def find_players(data):\n",
    "    data = data[np.argsort(data[:, 1])]\n",
    "    distances=data[1:, 1] - data[:-1, 1]\n",
    "    indices = np.argsort(distances)[::-1]\n",
    "    distances = distances[indices]\n",
    "    players=None\n",
    "    team_misc=0\n",
    "    i=0\n",
    "    while players is None and i<indices.shape[0]:\n",
    "        sep_line = indices[i]+1\n",
    "        grps = [data[:sep_line], data[sep_line:]]\n",
    "        for i in [0, 1]:\n",
    "            if grps[i].shape[0] == 11:\n",
    "                return grps[i], grps[1-i]\n",
    "        i += 1\n",
    "\n",
    "    raise ValueError(\"The 11 players could not be distinguished from the rest\")\n",
    "\n",
    "def find_coach_and_substitutes(data):\n",
    "    data = data[np.argsort(data[:, 0], axis=0)]\n",
    "    sep_line = np.argmax(data[1:, 0] - data[:-1, 0])+1\n",
    "    grps = [data[:sep_line], data[sep_line:]]\n",
    "    vars = [grp[:, 0].var() for grp in grps]\n",
    "    index = np.argmin(np.asarray(vars))\n",
    "    \n",
    "    return grps[index], grps[1-index]\n",
    "\n",
    "def separate_coach_and_substitutes(data):\n",
    "    data = data[np.argsort(data[:, 1])]\n",
    "    indices=[2, -2]\n",
    "    dists = [data[ind, 1]-data[ind-1, 1] for ind in indices]\n",
    "    sep_line = indices[np.argmin(dists)]\n",
    "    grps = [data[:sep_line], data[sep_line:]]\n",
    "    index = np.argmax([grp.shape[0] for grp in grps])\n",
    "    return grps[index][1:], grps[1-index][1:]\n",
    "\n",
    "def find_text_categories_loc(data):\n",
    "    substitutes_coach, others = find_coach_and_substitutes(data)\n",
    "    substitutes, coach = separate_coach_and_substitutes(substitutes_coach)\n",
    "    players, others = find_players(others)\n",
    "    team = find_team(others, h, prox_ratio=0.005)\n",
    "    return team, coach, players, substitutes"
   ]
  },
  {
   "cell_type": "code",
   "execution_count": 82,
   "metadata": {},
   "outputs": [
    {
     "name": "stdout",
     "output_type": "stream",
     "text": [
      "[INFO] loading EAST text detector...\n"
     ]
    }
   ],
   "source": [
    "path = '../Images/psg_info.png'\n",
    "\n",
    "\n",
    "img = Image(path=path, name='psg_info_out')\n",
    "(h, w) = img.pix_vals.shape[:2]\n",
    "    #img.resize_no_distortion()\n",
    "    #img.convert_to_gray()\n",
    "    #img.thresholding()\n",
    "    #img.export('../Images')\n",
    "textX, textY = text_reco(img.pix_vals)"
   ]
  },
  {
   "cell_type": "code",
   "execution_count": 160,
   "metadata": {},
   "outputs": [],
   "source": [
    "pts = np.concatenate([textX.reshape(-1, 1), textY.reshape(-1, 1)], axis=1)\n",
    "team, coach, players, substitutes = find_text_categories_loc(pts)"
   ]
  },
  {
   "cell_type": "code",
   "execution_count": 162,
   "metadata": {},
   "outputs": [
    {
     "data": {
      "text/plain": [
       "<function matplotlib.pyplot.show(*args, **kw)>"
      ]
     },
     "execution_count": 162,
     "metadata": {},
     "output_type": "execute_result"
    },
    {
     "data": {
      "image/png": "[encoded data removed]",
      "text/plain": [
       "<Figure size 720x360 with 1 Axes>"
      ]
     },
     "metadata": {
      "needs_background": "light"
     },
     "output_type": "display_data"
    }
   ],
   "source": [
    "\n",
    "plt.figure(figsize=(10, 5))\n",
    "#plt.scatter(pts[:, 0], pts[:, 1])\n",
    "plt.scatter(players[:, 0], players[:, 1])\n",
    "plt.show\n",
    "#img.display()"
   ]
  },
  {
   "cell_type": "code",
   "execution_count": null,
   "metadata": {},
   "outputs": [],
   "source": []
  }
 ],
 "metadata": {
  "kernelspec": {
   "display_name": "Python 3",
   "language": "python",
   "name": "python3"
  },
  "language_info": {
   "codemirror_mode": {
    "name": "ipython",
    "version": 3
   },
   "file_extension": ".py",
   "mimetype": "text/x-python",
   "name": "python",
   "nbconvert_exporter": "python",
   "pygments_lexer": "ipython3",
   "version": "3.7.0"
  }
 },
 "nbformat": 4,
 "nbformat_minor": 2
}
