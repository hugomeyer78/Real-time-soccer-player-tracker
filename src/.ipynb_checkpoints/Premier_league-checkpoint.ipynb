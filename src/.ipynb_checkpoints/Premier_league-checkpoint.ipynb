{
 "cells": [
  {
   "cell_type": "code",
   "execution_count": 1,
   "metadata": {},
   "outputs": [],
   "source": [
    "from image import Image\n",
    "from text_recognition import text_localization, text_reco\n",
    "import matplotlib.pyplot as plt\n",
    "import numpy as np\n",
    "from scipy.stats import norm\n",
    "from statistics import mean\n",
    "\n",
    "import cv2"
   ]
  },
  {
   "cell_type": "code",
   "execution_count": 2,
   "metadata": {},
   "outputs": [],
   "source": [
    "\n",
    "def find_team(data, h, prox_ratio=0.005):\n",
    "    if data.shape[0] == 1:\n",
    "        return data\n",
    "    else:\n",
    "        indices=[]\n",
    "        for i, val1 in enumerate(data[:, 1]):\n",
    "            for j, val2 in enumerate(data[i+1:, 1]):\n",
    "                distance = abs(val1-val2)\n",
    "                if distance < h*prox_ratio:\n",
    "                    if i not in indices:\n",
    "                        indices.append(i)\n",
    "                    if j+i+1 not in indices:\n",
    "                        indices.append(j+i+1)\n",
    "        if not indices:\n",
    "            return data[np.argsort(data[:, 0])][0][np.newaxis, :]\n",
    "        return data[indices]\n",
    "\n",
    "def find_players(data):\n",
    "    data = data[np.argsort(data[:, 1])]\n",
    "\n",
    "    distances=data[1:, 1] - data[:-1, 1]\n",
    "    indices = np.argsort(distances)[::-1]\n",
    "    distances = distances[indices]\n",
    "    players=None\n",
    "    team_misc=0\n",
    "    \n",
    "    sep_line = np.argmax(data[1:, 1] - data[:-1, 1])+1\n",
    "    grps = [data[:sep_line], data[sep_line:]]\n",
    "    grps_count = [grp.shape[0] for grp in grps]\n",
    "    j = np.argmax(grps_count)\n",
    "    return grps[j], grps[1-j]\n",
    "\n",
    "    \n",
    "    raise ValueError(\"The 11 players could not be distinguished from the rest\")\n",
    "\n",
    "def find_coach_and_substitutes(data):\n",
    "    data = data[np.argsort(data[:, 0], axis=0)]\n",
    "    sep_line = np.argmax(data[1:, 0] - data[:-1, 0])+1\n",
    "    grps = [data[:sep_line], data[sep_line:]]\n",
    "    vars = [grp[:, 0].var() for grp in grps]\n",
    "    index = np.argmin(np.asarray(vars))\n",
    "    \n",
    "    return grps[index], grps[1-index]\n",
    "\n",
    "def separate_coach_and_substitutes(data):\n",
    "    data = data[np.argsort(data[:, 1])]\n",
    "    indices=[2, -2]\n",
    "    dists = [data[ind, 1]-data[ind-1, 1] for ind in indices]\n",
    "    sep_line = indices[np.argmax(dists)]\n",
    "    grps = [data[:sep_line], data[sep_line:]]\n",
    "    index = np.argmax([grp.shape[0] for grp in grps])\n",
    "    return grps[index][:-1], grps[1-index][:-1]\n",
    "\n",
    "def find_no_players(players):\n",
    "    no_players=[]\n",
    "    box_height_avg = np.mean(players[:, 3]-players[:, 1])\n",
    "    for i, (Xstart, Ystart, Xend, Yend) in enumerate(players):\n",
    "        newY = max(Ystart-3*(Yend-Ystart), 0)\n",
    "        for j, (Xstart2, Ystart2, Xend2, Yend2) in enumerate(players):\n",
    "            if Xstart >= Xstart2 and Xstart <= Xend2 and Yend2 < Ystart and Yend2 > newY:\n",
    "                newY = max(Yend2, 0)\n",
    "            if Xend >= Xstart2 and Xend <= Xend2 and Yend2 < Ystart and Yend2 > newY:\n",
    "                newY = max(Yend2, 0)\n",
    "            if Xend >= Xend2 and Xstart <= Xstart2 and Yend2 < Ystart and Yend2 > newY:\n",
    "                newY = max(Yend2, 0)\n",
    "        no_players.append([Xstart, newY, Xend, int(Yend-1.5*box_height_avg)])\n",
    "    return np.asarray(no_players)\n",
    "\n",
    "\n",
    "def find_text_categories_loc(boxes, h):\n",
    "    centerX = np.asarray([(endX+startX)/2 for (startX, startY, endX, endY) in boxes])\n",
    "    centerY = np.asarray([h-(endY+startY)/2 for (startX, startY, endX, endY) in boxes])\n",
    "    centers = np.concatenate([centerX.reshape(-1, 1), centerY.reshape(-1, 1)], axis=1)\n",
    "    \n",
    "    substitutes_coach, others = find_coach_and_substitutes(centers)\n",
    "    subst_cent, coach_cent = separate_coach_and_substitutes(substitutes_coach)\n",
    "    players_cent, others = find_players(others)\n",
    "\n",
    "    team_cent = find_team(others, h, prox_ratio=0.005)\n",
    "\n",
    "    substitutes_ind = [i for i, row in enumerate(centers) if row.tolist() in subst_cent.tolist()]\n",
    "    coach_ind = [i for i, row in enumerate(centers) if row.tolist() in coach_cent.tolist()]\n",
    "    players_ind = [i for i, row in enumerate(centers) if row.tolist() in players_cent.tolist()]\n",
    "    team_ind = [i for i, row in enumerate(centers) if row.tolist() in team_cent.tolist()]\n",
    "    \n",
    "    subst_boxes = boxes[substitutes_ind]\n",
    "    coach_boxes = boxes[coach_ind]\n",
    "    players_boxes = boxes[players_ind]\n",
    "    team_boxes = boxes[team_ind]\n",
    "    \n",
    "    \n",
    "    players_boxes = players_boxes[np.argsort(players_boxes[:, 1])[::-1]]\n",
    "    team_boxes = team_boxes[np.argsort(team_boxes[:, 0])]\n",
    "    team_boxes = [[team_boxes[0][0], team_boxes[0][1], team_boxes[-1][2], team_boxes[0][3]]]\n",
    "    no_players_boxes = find_no_players(players_boxes)\n",
    "    #plt.figure(figsize=(10, 5))\n",
    "    #plt.scatter(pts[:, 0], pts[:, 1])\n",
    "    #plt.scatter(coach_cent[:, 0], coach_cent[:, 1])\n",
    "    #plt.show\n",
    "    return subst_boxes, coach_boxes, players_boxes, no_players_boxes, team_boxes\n",
    "\n",
    "\n",
    "def extract_no_players_from_rois(rois):\n",
    "    no_players=[]\n",
    "    \n",
    "    for roi in rois:\n",
    "        text=''\n",
    "        rect_sizes=[(1, 2), (2, 4), (3, 6), (4, 8), (5, 10)]\n",
    "        i=0\n",
    "        while not text and i < len(rect_sizes):\n",
    "            roi_copy = roi.pix_vals.copy()\n",
    "            cv2.imwrite('/Users/hugomeyer/Desktop/foot_tracker/Images/Text_reco/No players/test{}.png'.format(i), roi_copy)\n",
    "            kernel = cv2.getStructuringElement(cv2.MORPH_RECT, rect_sizes[i])\n",
    "            morph_img = cv2.morphologyEx(roi_copy, cv2.MORPH_CLOSE, kernel)  \n",
    "            text = text_reco(morph_img)\n",
    "            print(text)\n",
    "            i+=1\n",
    "        print(int(''.join([char for char in text if char.isdigit()])))\n",
    "        no_players.append(int(''.join([char for char in text if char.isdigit()])))\n",
    "    return no_players\n",
    "\n",
    "\n",
    "\n",
    "def extract_text_roi(img, boxes, Xleft_pad, Xright_pad, Yup_pad, Ydown_pad, label):\n",
    "    (H, W) = img.shape[:2]\n",
    "    orig = img.copy()\n",
    "    rois = []\n",
    "    boxes_padded = []\n",
    "    \n",
    "    for i, (startX, startY, endX, endY) in enumerate(boxes):\n",
    "        dX_left = int((endX - startX) * Xleft_pad)\n",
    "        dX_right = int((endX - startX) * Xright_pad)\n",
    "        dY_up = int((endY - startY) * Yup_pad)\n",
    "        dY_down = int((endY - startY) * Ydown_pad)\n",
    "\n",
    "        # apply padding to each side of the bounding box, respectively\n",
    "        startX = max(0, startX - dX_left)\n",
    "        startY = max(0, startY - dY_up)\n",
    "        endX = min(W, endX + (dX_right * 2))\n",
    "        endY = min(H, endY + (dY_down * 2))\n",
    "        \n",
    "        # extract the actual padded ROI\n",
    "        rois.append(Image(orig[startY:endY, startX:endX], name='roi{:d}'.format(i)))\n",
    "\n",
    "        boxes_padded.append((startX, startY, endX, endY))\n",
    "    return rois, boxes_padded\n",
    "\n",
    "\n",
    "def preprocess_rois(rois, export=False, label=''):\n",
    "    new_rois=[]\n",
    "    for roi in rois:\n",
    "        roi.convert_to_gray()\n",
    "        mu, std = norm.fit(roi.pix_vals.ravel())\n",
    "        if mu < 125:\n",
    "            roi.pix_vals = 255-roi.pix_vals\n",
    "            mu = 255-mu\n",
    "        #plt.hist(roi.pix_vals.ravel(),256,[0,256]); \n",
    "        #plt.show()\n",
    "        if export == True:\n",
    "            roi.export('../Images/Text_reco/' + label + '/')\n",
    "        roi.pix_vals = np.where((roi.pix_vals<mu+2*std) & (roi.pix_vals>mu-2*std), mu, roi.pix_vals)\n",
    "        \n",
    "        new_rois.append(roi)\n",
    "    return new_rois\n",
    "\n",
    "\n",
    "\n",
    "\n",
    "\n",
    "def from_boxes_to_data(img, substitutes_boxes, coach_boxes, players_boxes, no_players_boxes, team_boxes):\n",
    "    \n",
    "    \n",
    "    rois, boxes = extract_text_roi(img.pix_vals, substitutes_boxes, Xleft_pad=0.5, Xright_pad=0.5, \n",
    "                                   Yup_pad=0.25, Ydown_pad=0.25, label='Substitutes')\n",
    "    rois = preprocess_rois(rois)\n",
    "    substitutes=[text_reco(roi.pix_vals) for roi in rois]\n",
    "\n",
    "    rois, boxes = extract_text_roi(img.pix_vals, coach_boxes, Xleft_pad=0.5, Xright_pad=0.5, \n",
    "                                   Yup_pad=0.25, Ydown_pad=0.25, label='Coach')\n",
    "    rois = preprocess_rois(rois)\n",
    "    coach=[text_reco(roi.pix_vals) for roi in rois]\n",
    "\n",
    "    rois, boxes = extract_text_roi(img.pix_vals, team_boxes, Xleft_pad=0.05, Xright_pad=0.015, \n",
    "                                   Yup_pad=0.1, Ydown_pad=0.1, label='Team')\n",
    "    rois = preprocess_rois(rois)\n",
    "    team=[text_reco(roi.pix_vals) for roi in rois]\n",
    "\n",
    "\n",
    "    rois, boxes = extract_text_roi(img.pix_vals, players_boxes, Xleft_pad=0.05, Xright_pad=0.05, \n",
    "                                   Yup_pad=-0.15, Ydown_pad=0.1, label='Players')\n",
    "    rois = preprocess_rois(rois)\n",
    "    players=[text_reco(roi.pix_vals) for roi in rois]\n",
    "\n",
    "    rois, boxes = extract_text_roi(img.pix_vals, no_players_boxes, Xleft_pad=0, Xright_pad=0, \n",
    "                                   Yup_pad=0, Ydown_pad=0, label='No players')\n",
    "\n",
    "    output = img.pix_vals.copy()\n",
    "\n",
    "    for (startX, startY, endX, endY) in boxes:\n",
    "        cv2.rectangle(output, (startX, startY), (endX, endY),(0, 0, 255), 2)\n",
    "    cv2.imwrite('/Users/hugomeyer/Desktop/foot_tracker/Images/Text_reco/No players/boxes.png', output)\n",
    "    \n",
    "    #rois = preprocess_rois(rois, export=True, label='No players')\n",
    "    no_players = extract_no_players_from_rois(rois)\n",
    "\n",
    "    return team, players, no_players, substitutes, coach\n",
    "\n",
    "\n",
    "\n"
   ]
  },
  {
   "cell_type": "code",
   "execution_count": 35,
   "metadata": {},
   "outputs": [],
   "source": [
    "def split_sheet_in_player_subst(img, export_img=False):\n",
    "    gray_info_sheet=Image(img.pix_vals)\n",
    "    pad_ratio = 0.1\n",
    "    padOffset = int(pad_ratio*w)\n",
    "    gray_info_sheet.padding(pad_ratio, pad_ratio, pad_ratio, pad_ratio)\n",
    "    gray_info_sheet.convert_to_gray()\n",
    "    \n",
    "    gray_info_sheet.pix_vals = gray_info_sheet.pix_vals/255\n",
    "    (new_h, new_w) = gray_info_sheet.pix_vals.shape[:2]\n",
    "    sep_line = int(new_w/2)\n",
    "    while sep_line < new_w and gray_info_sheet.pix_vals[:, sep_line].sum() < new_h*0.9:\n",
    "        sep_line+=1\n",
    "\n",
    "    xi_pt, xf_pt = 0, sep_line+padOffset\n",
    "    xi_cs, xf_cs = sep_line+padOffset, w\n",
    "\n",
    "    players_img=Image(img.crop(0, h, xi_pt, xf_pt, inplace=False), name='players_team')\n",
    "    subst_img=Image(img.crop(0, h, xi_cs, xf_cs, inplace=False), name='coach_subst')\n",
    "    players_img.padding(0.05, 0.05, 0, 0.05)\n",
    "    subst_img.padding(0, 0.2, 0, 0.2)\n",
    "    \n",
    "    if export_img:\n",
    "        players_img.export('../')\n",
    "        subst_img.export('../')\n",
    "    \n",
    "    return players_img, subst_img"
   ]
  },
  {
   "cell_type": "code",
   "execution_count": 39,
   "metadata": {},
   "outputs": [],
   "source": [
    "path = '../Images/mc_info.png'\n",
    "\n",
    "\n",
    "img = Image(path=path, name='psg_info_out')\n",
    "(h, w) = img.pix_vals.shape[:2]\n",
    "\n",
    "path_info_with_boxes = '/Users/hugomeyer/Desktop/foot_tracker/Images/Text_reco/info.png'\n",
    "\n",
    "players_img, subst_img = split_sheet_in_player_subst(img)\n",
    "boxes = text_localization(players_img.pix_vals, export_img=True, path=path_info_with_boxes)\n",
    "#substitutes_boxes, coach_boxes, players_boxes, no_players_boxes, team_boxes = find_text_categories_loc(boxes, h)\n",
    "\n",
    "#categories = from_boxes_to_data(img, substitutes_boxes, coach_boxes, players_boxes, no_players_boxes, team_boxes)\n",
    "#for cat in categories:\n",
    "#    print(cat)\n"
   ]
  },
  {
   "cell_type": "code",
   "execution_count": 31,
   "metadata": {},
   "outputs": [],
   "source": [
    "centerX = np.asarray([(endX+startX)/2 for (startX, startY, endX, endY) in boxes])\n",
    "centerY = np.asarray([h-(endY+startY)/2 for (startX, startY, endX, endY) in boxes])\n",
    "centers = np.concatenate([centerX.reshape(-1, 1), centerY.reshape(-1, 1)], axis=1)\n",
    "data = centers.copy()\n",
    "\n",
    "\n",
    "\n",
    "\n",
    "\n"
   ]
  },
  {
   "cell_type": "code",
   "execution_count": 5,
   "metadata": {},
   "outputs": [
    {
     "ename": "NameError",
     "evalue": "name 'pts' is not defined",
     "output_type": "error",
     "traceback": [
      "\u001b[0;31m---------------------------------------------------------------------------\u001b[0m",
      "\u001b[0;31mNameError\u001b[0m                                 Traceback (most recent call last)",
      "\u001b[0;32m<ipython-input-5-bfc59095822c>\u001b[0m in \u001b[0;36m<module>\u001b[0;34m()\u001b[0m\n\u001b[1;32m      1\u001b[0m \u001b[0mplt\u001b[0m\u001b[0;34m.\u001b[0m\u001b[0mfigure\u001b[0m\u001b[0;34m(\u001b[0m\u001b[0mfigsize\u001b[0m\u001b[0;34m=\u001b[0m\u001b[0;34m(\u001b[0m\u001b[0;36m10\u001b[0m\u001b[0;34m,\u001b[0m \u001b[0;36m5\u001b[0m\u001b[0;34m)\u001b[0m\u001b[0;34m)\u001b[0m\u001b[0;34m\u001b[0m\u001b[0m\n\u001b[0;32m----> 2\u001b[0;31m \u001b[0mplt\u001b[0m\u001b[0;34m.\u001b[0m\u001b[0mscatter\u001b[0m\u001b[0;34m(\u001b[0m\u001b[0mpts\u001b[0m\u001b[0;34m[\u001b[0m\u001b[0;34m:\u001b[0m\u001b[0;34m,\u001b[0m \u001b[0;36m0\u001b[0m\u001b[0;34m]\u001b[0m\u001b[0;34m,\u001b[0m \u001b[0mpts\u001b[0m\u001b[0;34m[\u001b[0m\u001b[0;34m:\u001b[0m\u001b[0;34m,\u001b[0m \u001b[0;36m1\u001b[0m\u001b[0;34m]\u001b[0m\u001b[0;34m)\u001b[0m\u001b[0;34m\u001b[0m\u001b[0m\n\u001b[0m\u001b[1;32m      3\u001b[0m \u001b[0mplt\u001b[0m\u001b[0;34m.\u001b[0m\u001b[0mscatter\u001b[0m\u001b[0;34m(\u001b[0m\u001b[0mcoach_cent\u001b[0m\u001b[0;34m[\u001b[0m\u001b[0;34m:\u001b[0m\u001b[0;34m,\u001b[0m \u001b[0;36m0\u001b[0m\u001b[0;34m]\u001b[0m\u001b[0;34m,\u001b[0m \u001b[0mcoach_cent\u001b[0m\u001b[0;34m[\u001b[0m\u001b[0;34m:\u001b[0m\u001b[0;34m,\u001b[0m \u001b[0;36m1\u001b[0m\u001b[0;34m]\u001b[0m\u001b[0;34m)\u001b[0m\u001b[0;34m\u001b[0m\u001b[0m\n\u001b[1;32m      4\u001b[0m \u001b[0mplt\u001b[0m\u001b[0;34m.\u001b[0m\u001b[0mshow\u001b[0m\u001b[0;34m\u001b[0m\u001b[0m\n",
      "\u001b[0;31mNameError\u001b[0m: name 'pts' is not defined"
     ]
    },
    {
     "data": {
      "text/plain": [
       "<Figure size 720x360 with 0 Axes>"
      ]
     },
     "metadata": {},
     "output_type": "display_data"
    }
   ],
   "source": [
    "plt.figure(figsize=(10, 5))\n",
    "plt.scatter(pts[:, 0], pts[:, 1])\n",
    "plt.scatter(coach_cent[:, 0], coach_cent[:, 1])\n",
    "plt.show"
   ]
  },
  {
   "cell_type": "code",
   "execution_count": 90,
   "metadata": {},
   "outputs": [
    {
     "name": "stdout",
     "output_type": "stream",
     "text": [
      "1\n",
      "2\n",
      "3\n",
      "4\n",
      "- 14\n",
      "5\n",
      "6b\n",
      "- 23\n",
      "11\n",
      "13\n",
      "\n",
      "7\n",
      "[1, 2, 3, 4, 14, 5, 6, 23, 11, 13, 7]\n"
     ]
    }
   ],
   "source": [
    "def \n",
    "    no_players=[]\n",
    "    for roi in rois:\n",
    "        text=''\n",
    "        rect_sizes=[(1, 2), (2, 4), (3, 6), (4, 8), (5, 10)]\n",
    "        i=0\n",
    "        while not text and i < len(rect_sizes):\n",
    "            roi_copy = roi.pix_vals.copy()\n",
    "            cv2.imwrite('/Users/hugomeyer/Desktop/foot_tracker/Images/Text_reco/No players/test{}.png'.format(i), roi_copy)\n",
    "            kernel = cv2.getStructuringElement(cv2.MORPH_RECT, rect_sizes[i])\n",
    "            morph_img = cv2.morphologyEx(roi_copy, cv2.MORPH_CLOSE, kernel)  \n",
    "            text = text_reco(morph_img, config=\"-l eng --oem 1 --psm 7\")\n",
    "            print(text)\n",
    "            i+=1\n",
    "        no_players.append(int(''.join([char for char in text if char.isdigit()])))\n",
    "    print(nos)"
   ]
  },
  {
   "cell_type": "code",
   "execution_count": 38,
   "metadata": {},
   "outputs": [
    {
     "data": {
      "text/plain": [
       "'ab'"
      ]
     },
     "execution_count": 38,
     "metadata": {},
     "output_type": "execute_result"
    }
   ],
   "source": []
  },
  {
   "cell_type": "code",
   "execution_count": 78,
   "metadata": {},
   "outputs": [
    {
     "data": {
      "text/plain": [
       "True"
      ]
     },
     "execution_count": 78,
     "metadata": {},
     "output_type": "execute_result"
    }
   ],
   "source": [
    "img = Image(path='/Users/hugomeyer/Desktop/foot_tracker/Images/Text_reco/No players/roi7.png', name='roi_test')\n",
    "\n",
    "imgray = cv2.cvtColor(img.pix_vals,cv2.COLOR_BGR2GRAY)\n",
    "ret,thresh = cv2.threshold(imgray,127,255,0)\n",
    "im2, contours, hierarchy = cv2.findContours(thresh,cv2.RETR_TREE,cv2.CHAIN_APPROX_SIMPLE)\n",
    "#print(contours)\n",
    "#cv2.drawContours(im2, contours[2], -1, (100,100,100), 3)\n",
    "im2[contours[2]]=122\n",
    "cv2.imwrite('/Users/hugomeyer/Desktop/foot_tracker/Images/Text_reco/No players/roi_out.png', im2)\n",
    "#img.display()"
   ]
  },
  {
   "cell_type": "code",
   "execution_count": 85,
   "metadata": {},
   "outputs": [
    {
     "name": "stdout",
     "output_type": "stream",
     "text": [
      "['1', '', '3', '4', '- 14', '5', '6b', '- 23', '11', '13', '7']\n"
     ]
    }
   ],
   "source": [
    "texts=[]\n",
    "for i in range(11):\n",
    "    img = cv2.imread('/Users/hugomeyer/Desktop/foot_tracker/Images/Text_reco/No players/roi{}.png'.format(i))\n",
    "    img = cv2.cvtColor(img,cv2.COLOR_BGR2GRAY)\n",
    "    kernel = cv2.getStructuringElement(cv2.MORPH_RECT, (2,4))\n",
    "    morph_img = cv2.morphologyEx(img, cv2.MORPH_CLOSE, kernel)     \n",
    "    cv2.imwrite('/Users/hugomeyer/Desktop/foot_tracker/Images/Text_reco/No players/roi_out{}.png'.format(i), morph_img)\n",
    "    texts.append(text_reco(morph_img, config=\"-l eng --oem 1 --psm 7\"))\n",
    "print(texts)"
   ]
  },
  {
   "cell_type": "code",
   "execution_count": 89,
   "metadata": {},
   "outputs": [
    {
     "name": "stdout",
     "output_type": "stream",
     "text": [
      "True\n",
      "[1, 2]\n"
     ]
    }
   ],
   "source": [
    "test1=np.array([[1, 2], [3, 4], [1, 3]])\n",
    "test2=np.array([[1, 3], [3, 4]])\n",
    "print([3, 4] in test1.tolist())\n",
    "ind = [i for i, row in enumerate(test1) if row.tolist() in test2.tolist()]\n",
    "print(ind)"
   ]
  }
 ],
 "metadata": {
  "kernelspec": {
   "display_name": "Python 3",
   "language": "python",
   "name": "python3"
  },
  "language_info": {
   "codemirror_mode": {
    "name": "ipython",
    "version": 3
   },
   "file_extension": ".py",
   "mimetype": "text/x-python",
   "name": "python",
   "nbconvert_exporter": "python",
   "pygments_lexer": "ipython3",
   "version": "3.7.0"
  }
 },
 "nbformat": 4,
 "nbformat_minor": 2
}
